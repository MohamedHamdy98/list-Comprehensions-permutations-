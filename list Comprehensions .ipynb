{
 "cells": [
  {
   "cell_type": "markdown",
   "metadata": {},
   "source": [
    "https://www.hackerrank.com/challenges/list-comprehensions/problem?isFullScreen=true"
   ]
  },
  {
   "cell_type": "code",
   "execution_count": 16,
   "metadata": {},
   "outputs": [
    {
     "name": "stdout",
     "output_type": "stream",
     "text": [
      "1\n",
      "2\n",
      "4\n",
      "3\n",
      "[[0, 0, 0], [0, 0, 1], [0, 0, 2], [0, 0, 4], [0, 1, 0], [0, 1, 1], [0, 1, 3], [0, 1, 4], [0, 2, 0], [0, 2, 2], [0, 2, 3], [0, 2, 4], [1, 0, 0], [1, 0, 1], [1, 0, 3], [1, 0, 4], [1, 1, 0], [1, 1, 2], [1, 1, 3], [1, 1, 4], [1, 2, 1], [1, 2, 2], [1, 2, 3], [1, 2, 4]]\n"
     ]
    }
   ],
   "source": [
    "x, y, z, n = (int(input()) for _ in range(4))\n",
    "print ([[a,b,c] for a in range(0, x+1) for b in range(0, y+1) for c in range(0,z+1) if a + b + c != n ])"
   ]
  }
 ],
 "metadata": {
  "kernelspec": {
   "display_name": "Python 3",
   "language": "python",
   "name": "python3"
  },
  "language_info": {
   "codemirror_mode": {
    "name": "ipython",
    "version": 3
   },
   "file_extension": ".py",
   "mimetype": "text/x-python",
   "name": "python",
   "nbconvert_exporter": "python",
   "pygments_lexer": "ipython3",
   "version": "3.8.5"
  }
 },
 "nbformat": 4,
 "nbformat_minor": 4
}
